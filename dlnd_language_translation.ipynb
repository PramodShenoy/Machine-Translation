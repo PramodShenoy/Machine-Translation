{
 "cells": [
  {
   "cell_type": "markdown",
   "metadata": {
    "collapsed": true
   },
   "source": [
    "# Language Translation\n",
    "In this project, you’re going to take a peek into the realm of neural network machine translation.  You’ll be training a sequence to sequence model on a dataset of English and French sentences that can translate new sentences from English to French.\n",
    "## Get the Data\n",
    "Since translating the whole language of English to French will take lots of time to train, we have provided you with a small portion of the English corpus."
   ]
  },
  {
   "cell_type": "code",
   "execution_count": 1,
   "metadata": {
    "collapsed": true
   },
   "outputs": [],
   "source": [
    "\"\"\"\n",
    "DON'T MODIFY ANYTHING IN THIS CELL\n",
    "\"\"\"\n",
    "import helper\n",
    "import problem_unittests as tests\n",
    "\n",
    "source_path = 'data/small_vocab_en'\n",
    "target_path = 'data/small_vocab_fr'\n",
    "source_text = helper.load_data(source_path)\n",
    "target_text = helper.load_data(target_path)"
   ]
  },
  {
   "cell_type": "markdown",
   "metadata": {},
   "source": [
    "## Explore the Data\n",
    "Play around with view_sentence_range to view different parts of the data."
   ]
  },
  {
   "cell_type": "code",
   "execution_count": 2,
   "metadata": {},
   "outputs": [
    {
     "name": "stdout",
     "output_type": "stream",
     "text": [
      "Dataset Stats\n",
      "Roughly the number of unique words: 227\n",
      "Number of sentences: 137861\n",
      "Average number of words in a sentence: 13.225277634719028\n",
      "\n",
      "English sentences 0 to 10:\n",
      "new jersey is sometimes quiet during autumn , and it is snowy in april .\n",
      "the united states is usually chilly during july , and it is usually freezing in november .\n",
      "california is usually quiet during march , and it is usually hot in june .\n",
      "the united states is sometimes mild during june , and it is cold in september .\n",
      "your least liked fruit is the grape , but my least liked is the apple .\n",
      "his favorite fruit is the orange , but my favorite is the grape .\n",
      "paris is relaxing during december , but it is usually chilly in july .\n",
      "new jersey is busy during spring , and it is never hot in march .\n",
      "our least liked fruit is the lemon , but my least liked is the grape .\n",
      "the united states is sometimes busy during january , and it is sometimes warm in november .\n",
      "\n",
      "French sentences 0 to 10:\n",
      "new jersey est parfois calme pendant l' automne , et il est neigeux en avril .\n",
      "les états-unis est généralement froid en juillet , et il gèle habituellement en novembre .\n",
      "california est généralement calme en mars , et il est généralement chaud en juin .\n",
      "les états-unis est parfois légère en juin , et il fait froid en septembre .\n",
      "votre moins aimé fruit est le raisin , mais mon moins aimé est la pomme .\n",
      "son fruit préféré est l'orange , mais mon préféré est le raisin .\n",
      "paris est relaxant en décembre , mais il est généralement froid en juillet .\n",
      "new jersey est occupé au printemps , et il est jamais chaude en mars .\n",
      "notre fruit est moins aimé le citron , mais mon moins aimé est le raisin .\n",
      "les états-unis est parfois occupé en janvier , et il est parfois chaud en novembre .\n"
     ]
    }
   ],
   "source": [
    "view_sentence_range = (0, 10)\n",
    "\n",
    "\"\"\"\n",
    "DON'T MODIFY ANYTHING IN THIS CELL\n",
    "\"\"\"\n",
    "import numpy as np\n",
    "\n",
    "print('Dataset Stats')\n",
    "print('Roughly the number of unique words: {}'.format(len({word: None for word in source_text.split()})))\n",
    "\n",
    "sentences = source_text.split('\\n')\n",
    "word_counts = [len(sentence.split()) for sentence in sentences]\n",
    "print('Number of sentences: {}'.format(len(sentences)))\n",
    "print('Average number of words in a sentence: {}'.format(np.average(word_counts)))\n",
    "\n",
    "print()\n",
    "print('English sentences {} to {}:'.format(*view_sentence_range))\n",
    "print('\\n'.join(source_text.split('\\n')[view_sentence_range[0]:view_sentence_range[1]]))\n",
    "print()\n",
    "print('French sentences {} to {}:'.format(*view_sentence_range))\n",
    "print('\\n'.join(target_text.split('\\n')[view_sentence_range[0]:view_sentence_range[1]]))"
   ]
  },
  {
   "cell_type": "markdown",
   "metadata": {},
   "source": [
    "## Implement Preprocessing Function\n",
    "### Text to Word Ids\n",
    "As you did with other RNNs, you must turn the text into a number so the computer can understand it. In the function `text_to_ids()`, you'll turn `source_text` and `target_text` from words to ids.  However, you need to add the `<EOS>` word id at the end of `target_text`.  This will help the neural network predict when the sentence should end.\n",
    "\n",
    "You can get the `<EOS>` word id by doing:\n",
    "```python\n",
    "target_vocab_to_int['<EOS>']\n",
    "```\n",
    "You can get other word ids using `source_vocab_to_int` and `target_vocab_to_int`."
   ]
  },
  {
   "cell_type": "code",
   "execution_count": 3,
   "metadata": {},
   "outputs": [
    {
     "name": "stdout",
     "output_type": "stream",
     "text": [
      "0\n",
      "Tests Passed\n"
     ]
    }
   ],
   "source": [
    "def text_to_ids(source_text, target_text, source_vocab_to_int, target_vocab_to_int):\n",
    "    \"\"\"\n",
    "    Convert source and target text to proper word ids\n",
    "    :param source_text: String that contains all the source text.\n",
    "    :param target_text: String that contains all the target text.\n",
    "    :param source_vocab_to_int: Dictionary to go from the source words to an id\n",
    "    :param target_vocab_to_int: Dictionary to go from the target words to an id\n",
    "    :return: A tuple of lists (source_id_text, target_id_text)\n",
    "    \"\"\"\n",
    "    # TODO: Implement Function\n",
    "    source_id_text=[]\n",
    "    print(source_text.find(''))\n",
    "    for line in source_text.split('\\n'):\n",
    "        a=[]\n",
    "        for word in line.split():\n",
    "            a.append(source_vocab_to_int[word])\n",
    "        source_id_text.append(a)    \n",
    "    \n",
    "    target_id_text=[]\n",
    "    for line in target_text.split('\\n'):\n",
    "        b=[]\n",
    "        line=line+' '+'<EOS>'\n",
    "        for word in line.split():\n",
    "            b.append(target_vocab_to_int[word])\n",
    "        target_id_text.append(b)\n",
    "    return source_id_text, target_id_text\n",
    "\n",
    "\"\"\"\n",
    "DON'T MODIFY ANYTHING IN THIS CELL THAT IS BELOW THIS LINE\n",
    "\"\"\"\n",
    "tests.test_text_to_ids(text_to_ids)"
   ]
  },
  {
   "cell_type": "markdown",
   "metadata": {},
   "source": [
    "### Preprocess all the data and save it\n",
    "Running the code cell below will preprocess all the data and save it to file."
   ]
  },
  {
   "cell_type": "code",
   "execution_count": 4,
   "metadata": {},
   "outputs": [
    {
     "name": "stdout",
     "output_type": "stream",
     "text": [
      "0\n"
     ]
    }
   ],
   "source": [
    "\"\"\"\n",
    "DON'T MODIFY ANYTHING IN THIS CELL\n",
    "\"\"\"\n",
    "helper.preprocess_and_save_data(source_path, target_path, text_to_ids)"
   ]
  },
  {
   "cell_type": "markdown",
   "metadata": {},
   "source": [
    "# Check Point\n",
    "This is your first checkpoint. If you ever decide to come back to this notebook or have to restart the notebook, you can start from here. The preprocessed data has been saved to disk."
   ]
  },
  {
   "cell_type": "code",
   "execution_count": 5,
   "metadata": {
    "collapsed": true
   },
   "outputs": [],
   "source": [
    "\"\"\"\n",
    "DON'T MODIFY ANYTHING IN THIS CELL\n",
    "\"\"\"\n",
    "import numpy as np\n",
    "import helper\n",
    "\n",
    "(source_int_text, target_int_text), (source_vocab_to_int, target_vocab_to_int), _ = helper.load_preprocess()"
   ]
  },
  {
   "cell_type": "markdown",
   "metadata": {},
   "source": [
    "### Check the Version of TensorFlow and Access to GPU\n",
    "This will check to make sure you have the correct version of TensorFlow and access to a GPU"
   ]
  },
  {
   "cell_type": "code",
   "execution_count": 6,
   "metadata": {},
   "outputs": [
    {
     "name": "stdout",
     "output_type": "stream",
     "text": [
      "TensorFlow Version: 1.1.0\n",
      "Default GPU Device: /gpu:0\n"
     ]
    }
   ],
   "source": [
    "\"\"\"\n",
    "DON'T MODIFY ANYTHING IN THIS CELL\n",
    "\"\"\"\n",
    "from distutils.version import LooseVersion\n",
    "import warnings\n",
    "import tensorflow as tf\n",
    "from tensorflow.python.layers.core import Dense\n",
    "\n",
    "# Check TensorFlow Version\n",
    "assert LooseVersion(tf.__version__) >= LooseVersion('1.1'), 'Please use TensorFlow version 1.1 or newer'\n",
    "print('TensorFlow Version: {}'.format(tf.__version__))\n",
    "\n",
    "# Check for a GPU\n",
    "if not tf.test.gpu_device_name():\n",
    "    warnings.warn('No GPU found. Please use a GPU to train your neural network.')\n",
    "else:\n",
    "    print('Default GPU Device: {}'.format(tf.test.gpu_device_name()))"
   ]
  },
  {
   "cell_type": "markdown",
   "metadata": {},
   "source": [
    "## Build the Neural Network\n",
    "You'll build the components necessary to build a Sequence-to-Sequence model by implementing the following functions below:\n",
    "- `model_inputs`\n",
    "- `process_decoder_input`\n",
    "- `encoding_layer`\n",
    "- `decoding_layer_train`\n",
    "- `decoding_layer_infer`\n",
    "- `decoding_layer`\n",
    "- `seq2seq_model`\n",
    "\n",
    "### Input\n",
    "Implement the `model_inputs()` function to create TF Placeholders for the Neural Network. It should create the following placeholders:\n",
    "\n",
    "- Input text placeholder named \"input\" using the TF Placeholder name parameter with rank 2.\n",
    "- Targets placeholder with rank 2.\n",
    "- Learning rate placeholder with rank 0.\n",
    "- Keep probability placeholder named \"keep_prob\" using the TF Placeholder name parameter with rank 0.\n",
    "- Target sequence length placeholder named \"target_sequence_length\" with rank 1\n",
    "- Max target sequence length tensor named \"max_target_len\" getting its value from applying tf.reduce_max on the target_sequence_length placeholder. Rank 0.\n",
    "- Source sequence length placeholder named \"source_sequence_length\" with rank 1\n",
    "\n",
    "Return the placeholders in the following the tuple (input, targets, learning rate, keep probability, target sequence length, max target sequence length, source sequence length)"
   ]
  },
  {
   "cell_type": "code",
   "execution_count": 7,
   "metadata": {},
   "outputs": [
    {
     "name": "stdout",
     "output_type": "stream",
     "text": [
      "Tests Passed\n"
     ]
    }
   ],
   "source": [
    "def model_inputs():\n",
    "    \"\"\"\n",
    "    Create TF Placeholders for input, targets, learning rate, and lengths of source and target sequences.\n",
    "    :return: Tuple (input, targets, learning rate, keep probability, target sequence length,\n",
    "    max target sequence length, source sequence length)\n",
    "    \"\"\"\n",
    "    # TODO: Implement Function\n",
    "    input_text = tf.placeholder(dtype=tf.int32, shape=(None, None), name=\"input\")\n",
    "    targets = tf.placeholder(dtype=tf.int32, shape=(None, None), name=\"targets\")\n",
    "    lr = tf.placeholder(dtype=tf.float32, shape=(None), name=\"learnrate\")\n",
    "    keep_prob = tf.placeholder(dtype=tf.float32, shape=(None), name=\"keep_prob\")\n",
    "    target_seq_len = tf.placeholder(dtype=tf.int32, shape=(None, ), name=\"target_sequence_length\")\n",
    "    max_target_len = tf.reduce_max(target_seq_len, name=\"max_target_len\")\n",
    "    src_seq_len = tf.placeholder(dtype=tf.int32, shape=(None, ), name=\"source_sequence_length\")\n",
    "    return input_text, targets, lr, keep_prob, target_seq_len, max_target_len, src_seq_len\n",
    "\n",
    "\n",
    "\n",
    "\"\"\"\n",
    "DON'T MODIFY ANYTHING IN THIS CELL THAT IS BELOW THIS LINE\n",
    "\"\"\"\n",
    "tests.test_model_inputs(model_inputs)"
   ]
  },
  {
   "cell_type": "markdown",
   "metadata": {},
   "source": [
    "### Process Decoder Input\n",
    "Implement `process_decoder_input` by removing the last word id from each batch in `target_data` and concat the GO ID to the begining of each batch."
   ]
  },
  {
   "cell_type": "code",
   "execution_count": 8,
   "metadata": {},
   "outputs": [
    {
     "name": "stdout",
     "output_type": "stream",
     "text": [
      "Tests Passed\n"
     ]
    }
   ],
   "source": [
    "def process_decoder_input(target_data, target_vocab_to_int, batch_size):\n",
    "    \"\"\"\n",
    "    Preprocess target data for encoding\n",
    "    :param target_data: Target Placehoder\n",
    "    :param target_vocab_to_int: Dictionary to go from the target words to an id\n",
    "    :param batch_size: Batch Size\n",
    "    :return: Preprocessed target data\n",
    "    \"\"\"\n",
    "    # TODO: Implement Function\n",
    "    ending = tf.strided_slice(target_data, [0, 0], [batch_size, -1], [1, 1])\n",
    "    dec_input = tf.concat([tf.fill([batch_size, 1], target_vocab_to_int['<GO>']), ending], 1)\n",
    "    return dec_input\n",
    "\n",
    "\"\"\"\n",
    "DON'T MODIFY ANYTHING IN THIS CELL THAT IS BELOW THIS LINE\n",
    "\"\"\"\n",
    "tests.test_process_encoding_input(process_decoder_input)"
   ]
  },
  {
   "cell_type": "markdown",
   "metadata": {},
   "source": [
    "### Encoding\n",
    "Implement `encoding_layer()` to create a Encoder RNN layer:\n",
    " * Embed the encoder input using [`tf.contrib.layers.embed_sequence`](https://www.tensorflow.org/api_docs/python/tf/contrib/layers/embed_sequence)\n",
    " * Construct a [stacked](https://github.com/tensorflow/tensorflow/blob/6947f65a374ebf29e74bb71e36fd82760056d82c/tensorflow/docs_src/tutorials/recurrent.md#stacking-multiple-lstms) [`tf.contrib.rnn.LSTMCell`](https://www.tensorflow.org/api_docs/python/tf/contrib/rnn/LSTMCell) wrapped in a [`tf.contrib.rnn.DropoutWrapper`](https://www.tensorflow.org/api_docs/python/tf/contrib/rnn/DropoutWrapper)\n",
    " * Pass cell and embedded input to [`tf.nn.dynamic_rnn()`](https://www.tensorflow.org/api_docs/python/tf/nn/dynamic_rnn)"
   ]
  },
  {
   "cell_type": "code",
   "execution_count": 9,
   "metadata": {
    "scrolled": false
   },
   "outputs": [
    {
     "name": "stdout",
     "output_type": "stream",
     "text": [
      "Tests Passed\n"
     ]
    }
   ],
   "source": [
    "from imp import reload\n",
    "reload(tests)\n",
    "\n",
    "def encoding_layer(rnn_inputs, rnn_size, num_layers, keep_prob, \n",
    "                   source_sequence_length, source_vocab_size, \n",
    "                   encoding_embedding_size):\n",
    "    \"\"\"\n",
    "    Create encoding layer\n",
    "    :param rnn_inputs: Inputs for the RNN\n",
    "    :param rnn_size: RNN Size\n",
    "    :param num_layers: Number of layers\n",
    "    :param keep_prob: Dropout keep probability\n",
    "    :param source_sequence_length: a list of the lengths of each sequence in the batch\n",
    "    :param source_vocab_size: vocabulary size of source data\n",
    "    :param encoding_embedding_size: embedding size of source data\n",
    "    :return: tuple (RNN output, RNN state)\n",
    "    \"\"\"\n",
    "    # TODO: Implement Function\n",
    "    embedding = tf.contrib.layers.embed_sequence(ids=rnn_inputs, vocab_size=source_vocab_size, embed_dim=encoding_embedding_size)\n",
    "    \n",
    "    \n",
    "    gen_cell = lambda: tf.contrib.rnn.LSTMCell(num_units=rnn_size, initializer=tf.random_uniform_initializer(-0.1, 0.1, seed=2))\n",
    "    \n",
    "    cells = tf.contrib.rnn.MultiRNNCell(cells=[gen_cell() for _ in range(num_layers)])\n",
    "    drop = tf.contrib.rnn.DropoutWrapper(cell=cells, output_keep_prob=keep_prob)\n",
    "    output, state = tf.nn.dynamic_rnn(cell=drop, inputs=embedding, dtype=tf.float32)\n",
    "    return output, state\n",
    "\"\"\"\n",
    "DON'T MODIFY ANYTHING IN THIS CELL THAT IS BELOW THIS LINE\n",
    "\"\"\"\n",
    "tests.test_encoding_layer(encoding_layer)"
   ]
  },
  {
   "cell_type": "markdown",
   "metadata": {},
   "source": [
    "### Decoding - Training\n",
    "Create a training decoding layer:\n",
    "* Create a [`tf.contrib.seq2seq.TrainingHelper`](https://www.tensorflow.org/api_docs/python/tf/contrib/seq2seq/TrainingHelper) \n",
    "* Create a [`tf.contrib.seq2seq.BasicDecoder`](https://www.tensorflow.org/api_docs/python/tf/contrib/seq2seq/BasicDecoder)\n",
    "* Obtain the decoder outputs from [`tf.contrib.seq2seq.dynamic_decode`](https://www.tensorflow.org/api_docs/python/tf/contrib/seq2seq/dynamic_decode)"
   ]
  },
  {
   "cell_type": "code",
   "execution_count": 11,
   "metadata": {},
   "outputs": [
    {
     "name": "stdout",
     "output_type": "stream",
     "text": [
      "Tests Passed\n"
     ]
    }
   ],
   "source": [
    "\n",
    "def decoding_layer_train(encoder_state, dec_cell, dec_embed_input, \n",
    "                         target_sequence_length, max_summary_length, \n",
    "                         output_layer, keep_prob):\n",
    "    \"\"\"\n",
    "    Create a decoding layer for training\n",
    "    :param encoder_state: Encoder State\n",
    "    :param dec_cell: Decoder RNN Cell\n",
    "    :param dec_embed_input: Decoder embedded input\n",
    "    :param target_sequence_length: The lengths of each sequence in the target batch\n",
    "    :param max_summary_length: The length of the longest sequence in the batch\n",
    "    :param output_layer: Function to apply the output layer\n",
    "    :param keep_prob: Dropout keep probability\n",
    "    :return: BasicDecoderOutput containing training logits and sample_id\n",
    "    \"\"\"\n",
    "    # TODO: Implement Function\n",
    "    training_helper = tf.contrib.seq2seq.TrainingHelper(inputs=dec_embed_input, sequence_length=target_sequence_length, time_major=False)\n",
    "    \n",
    "    decoder = tf.contrib.seq2seq.BasicDecoder(cell=dec_cell, helper=training_helper,\n",
    "                                                initial_state=encoder_state, output_layer=output_layer)\n",
    "    training_decoder_output,_ = tf.contrib.seq2seq.dynamic_decode(decoder, impute_finished=True,\n",
    "                                               maximum_iterations=max_summary_length)\n",
    "    return training_decoder_output\n",
    "\n",
    "\n",
    "\n",
    "\"\"\"\n",
    "DON'T MODIFY ANYTHING IN THIS CELL THAT IS BELOW THIS LINE\n",
    "\"\"\"\n",
    "tests.test_decoding_layer_train(decoding_layer_train)"
   ]
  },
  {
   "cell_type": "markdown",
   "metadata": {},
   "source": [
    "### Decoding - Inference\n",
    "Create inference decoder:\n",
    "* Create a [`tf.contrib.seq2seq.GreedyEmbeddingHelper`](https://www.tensorflow.org/api_docs/python/tf/contrib/seq2seq/GreedyEmbeddingHelper)\n",
    "* Create a [`tf.contrib.seq2seq.BasicDecoder`](https://www.tensorflow.org/api_docs/python/tf/contrib/seq2seq/BasicDecoder)\n",
    "* Obtain the decoder outputs from [`tf.contrib.seq2seq.dynamic_decode`](https://www.tensorflow.org/api_docs/python/tf/contrib/seq2seq/dynamic_decode)"
   ]
  },
  {
   "cell_type": "code",
   "execution_count": 12,
   "metadata": {
    "scrolled": true
   },
   "outputs": [
    {
     "name": "stdout",
     "output_type": "stream",
     "text": [
      "Tests Passed\n"
     ]
    }
   ],
   "source": [
    "def decoding_layer_infer(encoder_state, dec_cell, dec_embeddings, start_of_sequence_id,\n",
    "                         end_of_sequence_id, max_target_sequence_length,\n",
    "                         vocab_size, output_layer, batch_size, keep_prob):\n",
    "    \"\"\"\n",
    "    Create a decoding layer for inference\n",
    "    :param encoder_state: Encoder state\n",
    "    :param dec_cell: Decoder RNN Cell\n",
    "    :param dec_embeddings: Decoder embeddings\n",
    "    :param start_of_sequence_id: GO ID\n",
    "    :param end_of_sequence_id: EOS Id\n",
    "    :param max_target_sequence_length: Maximum length of target sequences\n",
    "    :param vocab_size: Size of decoder/target vocabulary\n",
    "    :param decoding_scope: TenorFlow Variable Scope for decoding\n",
    "    :param output_layer: Function to apply the output layer\n",
    "    :param batch_size: Batch size\n",
    "    :param keep_prob: Dropout keep probability\n",
    "    :return: BasicDecoderOutput containing inference logits and sample_id\n",
    "    \"\"\"\n",
    "    # TODO: Implement Function\n",
    "    start_token= tf.constant([start_of_sequence_id],tf.int32,[batch_size])\n",
    "    \n",
    "    embed_helper = tf.contrib.seq2seq.GreedyEmbeddingHelper(embedding=dec_embeddings,start_tokens=start_token,\n",
    "                                                            end_token=end_of_sequence_id)\n",
    "    dec = tf.contrib.seq2seq.BasicDecoder(cell = dec_cell , helper=embed_helper, \n",
    "                                          initial_state=encoder_state, output_layer=output_layer )\n",
    "    decoder , _  = tf.contrib.seq2seq.dynamic_decode(decoder=dec,impute_finished=True,\n",
    "                                               maximum_iterations=max_target_sequence_length)\n",
    "    \n",
    "    return decoder\n",
    "\n",
    "\n",
    "\n",
    "\"\"\"\n",
    "DON'T MODIFY ANYTHING IN THIS CELL THAT IS BELOW THIS LINE\n",
    "\"\"\"\n",
    "tests.test_decoding_layer_infer(decoding_layer_infer)"
   ]
  },
  {
   "cell_type": "markdown",
   "metadata": {},
   "source": [
    "### Build the Decoding Layer\n",
    "Implement `decoding_layer()` to create a Decoder RNN layer.\n",
    "\n",
    "* Embed the target sequences\n",
    "* Construct the decoder LSTM cell (just like you constructed the encoder cell above)\n",
    "* Create an output layer to map the outputs of the decoder to the elements of our vocabulary\n",
    "* Use the your `decoding_layer_train(encoder_state, dec_cell, dec_embed_input, target_sequence_length, max_target_sequence_length, output_layer, keep_prob)` function to get the training logits.\n",
    "* Use your `decoding_layer_infer(encoder_state, dec_cell, dec_embeddings, start_of_sequence_id, end_of_sequence_id, max_target_sequence_length, vocab_size, output_layer, batch_size, keep_prob)` function to get the inference logits.\n",
    "\n",
    "Note: You'll need to use [tf.variable_scope](https://www.tensorflow.org/api_docs/python/tf/variable_scope) to share variables between training and inference."
   ]
  },
  {
   "cell_type": "code",
   "execution_count": 13,
   "metadata": {},
   "outputs": [
    {
     "name": "stdout",
     "output_type": "stream",
     "text": [
      "Tests Passed\n"
     ]
    }
   ],
   "source": [
    "def decoding_layer(dec_input, encoder_state,\n",
    "                   target_sequence_length, max_target_sequence_length,\n",
    "                   rnn_size,\n",
    "                   num_layers, target_vocab_to_int, target_vocab_size,\n",
    "                   batch_size, keep_prob, decoding_embedding_size):\n",
    "    \"\"\"\n",
    "    Create decoding layer\n",
    "    :param dec_input: Decoder input\n",
    "    :param encoder_state: Encoder state\n",
    "    :param target_sequence_length: The lengths of each sequence in the target batch\n",
    "    :param max_target_sequence_length: Maximum length of target sequences\n",
    "    :param rnn_size: RNN Size\n",
    "    :param num_layers: Number of layers\n",
    "    :param target_vocab_to_int: Dictionary to go from the target words to an id\n",
    "    :param target_vocab_size: Size of target vocabulary\n",
    "    :param batch_size: The size of the batch\n",
    "    :param keep_prob: Dropout keep probability\n",
    "    :return: Tuple of (Training BasicDecoderOutput, Inference BasicDecoderOutput)\n",
    "    \"\"\"\n",
    "    # TODO: Implement Function\n",
    "    start_of_sequence_id = target_vocab_to_int['<GO>']\n",
    "    end_of_sequence_id = target_vocab_to_int['<EOS>']\n",
    "    dec_embeddings = tf.Variable(tf.random_uniform([target_vocab_size, decoding_embedding_size]))\n",
    "    dec_embed_input = tf.nn.embedding_lookup(dec_embeddings, dec_input)\n",
    "    \n",
    "    gen_cell = lambda rnn_size: tf.contrib.rnn.LSTMCell(rnn_size, initializer=tf.random_uniform_initializer(-0.1, 0.1, seed=2))\n",
    "    \n",
    "    dec_cell = tf.contrib.rnn.MultiRNNCell([gen_cell(rnn_size) for _ in range(num_layers)])\n",
    "    \n",
    "    output_layer = Dense(units=target_vocab_size,\n",
    "                                kernel_initializer = tf.truncated_normal_initializer(mean = 0.0, stddev=0.1))\n",
    "    \n",
    "    with tf.variable_scope(\"decode\"):\n",
    "        training = decoding_layer_train(encoder_state, dec_cell, dec_embed_input, target_sequence_length,\n",
    "                                    max_target_sequence_length, output_layer, keep_prob)\n",
    "    #(encoder_state, dec_cell, dec_embed_input, target_sequence_length, max_summary_length, output_layer, keep_prob)\n",
    "    with tf.variable_scope(\"decode\", reuse=True):\n",
    "        inference = decoding_layer_infer(encoder_state, dec_cell, dec_embeddings, start_of_sequence_id, end_of_sequence_id,\n",
    "                                     max_target_sequence_length, target_vocab_size, output_layer, batch_size, keep_prob)\n",
    "    return training, inference\n",
    "\n",
    "\n",
    "\n",
    "\"\"\"\n",
    "DON'T MODIFY ANYTHING IN THIS CELL THAT IS BELOW THIS LINE\n",
    "\"\"\"\n",
    "tests.test_decoding_layer(decoding_layer)"
   ]
  },
  {
   "cell_type": "markdown",
   "metadata": {},
   "source": [
    "### Build the Neural Network\n",
    "Apply the functions you implemented above to:\n",
    "\n",
    "- Apply embedding to the input data for the encoder.\n",
    "- Encode the input using your `encoding_layer(rnn_inputs, rnn_size, num_layers, keep_prob,  source_sequence_length, source_vocab_size, encoding_embedding_size)`.\n",
    "- Process target data using your `process_decoder_input(target_data, target_vocab_to_int, batch_size)` function.\n",
    "- Apply embedding to the target data for the decoder.\n",
    "- Decode the encoded input using your `decoding_layer(dec_input, enc_state, target_sequence_length, max_target_sentence_length, rnn_size, num_layers, target_vocab_to_int, target_vocab_size, batch_size, keep_prob, dec_embedding_size)` function."
   ]
  },
  {
   "cell_type": "code",
   "execution_count": 14,
   "metadata": {},
   "outputs": [
    {
     "name": "stdout",
     "output_type": "stream",
     "text": [
      "Tests Passed\n"
     ]
    }
   ],
   "source": [
    "def seq2seq_model(input_data, target_data, keep_prob, batch_size,\n",
    "                  source_sequence_length, target_sequence_length,\n",
    "                  max_target_sentence_length,\n",
    "                  source_vocab_size, target_vocab_size,\n",
    "                  enc_embedding_size, dec_embedding_size,\n",
    "                  rnn_size, num_layers, target_vocab_to_int):\n",
    "    \"\"\"\n",
    "    Build the Sequence-to-Sequence part of the neural network\n",
    "    :param input_data: Input placeholder\n",
    "    :param target_data: Target placeholder\n",
    "    :param keep_prob: Dropout keep probability placeholder\n",
    "    :param batch_size: Batch Size\n",
    "    :param source_sequence_length: Sequence Lengths of source sequences in the batch\n",
    "    :param target_sequence_length: Sequence Lengths of target sequences in the batch\n",
    "    :param source_vocab_size: Source vocabulary size\n",
    "    :param target_vocab_size: Target vocabulary size\n",
    "    :param enc_embedding_size: Decoder embedding size\n",
    "    :param dec_embedding_size: Encoder embedding size\n",
    "    :param rnn_size: RNN Size\n",
    "    :param num_layers: Number of layers\n",
    "    :param target_vocab_to_int: Dictionary to go from the target words to an id\n",
    "    :return: Tuple of (Training BasicDecoderOutput, Inference BasicDecoderOutput)\n",
    "    \"\"\"\n",
    "    # TODO: Implement Function\n",
    "    output_enc,state_enc = encoding_layer(input_data,rnn_size,num_layers,keep_prob,\n",
    "                                          source_sequence_length,source_vocab_size,enc_embedding_size)\n",
    "    \n",
    "    dec_input = process_decoder_input(target_data,target_vocab_to_int,batch_size)    \n",
    "    \n",
    "    training,inference = decoding_layer(dec_input, state_enc, target_sequence_length,\n",
    "                                        max_target_sentence_length, rnn_size,num_layers, target_vocab_to_int, \n",
    "                                        target_vocab_size,\n",
    "                                        batch_size, keep_prob, dec_embedding_size)\n",
    "    return training, inference\n",
    "\n",
    "\"\"\"\n",
    "DON'T MODIFY ANYTHING IN THIS CELL THAT IS BELOW THIS LINE\n",
    "\"\"\"\n",
    "tests.test_seq2seq_model(seq2seq_model)"
   ]
  },
  {
   "cell_type": "markdown",
   "metadata": {},
   "source": [
    "## Neural Network Training\n",
    "### Hyperparameters\n",
    "Tune the following parameters:\n",
    "\n",
    "- Set `epochs` to the number of epochs.\n",
    "- Set `batch_size` to the batch size.\n",
    "- Set `rnn_size` to the size of the RNNs.\n",
    "- Set `num_layers` to the number of layers.\n",
    "- Set `encoding_embedding_size` to the size of the embedding for the encoder.\n",
    "- Set `decoding_embedding_size` to the size of the embedding for the decoder.\n",
    "- Set `learning_rate` to the learning rate.\n",
    "- Set `keep_probability` to the Dropout keep probability\n",
    "- Set `display_step` to state how many steps between each debug output statement"
   ]
  },
  {
   "cell_type": "code",
   "execution_count": 47,
   "metadata": {
    "collapsed": true
   },
   "outputs": [],
   "source": [
    "# Number of Epochs\n",
    "epochs = 10\n",
    "# Batch Size\n",
    "batch_size = 512\n",
    "# RNN Size\n",
    "rnn_size = 500\n",
    "# Number of Layers\n",
    "num_layers = 3\n",
    "# Embedding Size\n",
    "encoding_embedding_size = 256\n",
    "decoding_embedding_size = 256\n",
    "# Learning Rate\n",
    "learning_rate = 0.001\n",
    "# Dropout Keep Probability\n",
    "keep_probability = 0.8\n",
    "display_step = 10"
   ]
  },
  {
   "cell_type": "markdown",
   "metadata": {},
   "source": [
    "### Build the Graph\n",
    "Build the graph using the neural network you implemented."
   ]
  },
  {
   "cell_type": "code",
   "execution_count": 48,
   "metadata": {
    "collapsed": true
   },
   "outputs": [],
   "source": [
    "\"\"\"\n",
    "DON'T MODIFY ANYTHING IN THIS CELL\n",
    "\"\"\"\n",
    "save_path = 'checkpoints/dev'\n",
    "(source_int_text, target_int_text), (source_vocab_to_int, target_vocab_to_int), _ = helper.load_preprocess()\n",
    "max_target_sentence_length = max([len(sentence) for sentence in source_int_text])\n",
    "\n",
    "train_graph = tf.Graph()\n",
    "with train_graph.as_default():\n",
    "    input_data, targets, lr, keep_prob, target_sequence_length, max_target_sequence_length, source_sequence_length = model_inputs()\n",
    "\n",
    "    #sequence_length = tf.placeholder_with_default(max_target_sentence_length, None, name='sequence_length')\n",
    "    input_shape = tf.shape(input_data)\n",
    "\n",
    "    train_logits, inference_logits = seq2seq_model(tf.reverse(input_data, [-1]),\n",
    "                                                   targets,\n",
    "                                                   keep_prob,\n",
    "                                                   batch_size,\n",
    "                                                   source_sequence_length,\n",
    "                                                   target_sequence_length,\n",
    "                                                   max_target_sequence_length,\n",
    "                                                   len(source_vocab_to_int),\n",
    "                                                   len(target_vocab_to_int),\n",
    "                                                   encoding_embedding_size,\n",
    "                                                   decoding_embedding_size,\n",
    "                                                   rnn_size,\n",
    "                                                   num_layers,\n",
    "                                                   target_vocab_to_int)\n",
    "\n",
    "\n",
    "    training_logits = tf.identity(train_logits.rnn_output, name='logits')\n",
    "    inference_logits = tf.identity(inference_logits.sample_id, name='predictions')\n",
    "\n",
    "    masks = tf.sequence_mask(target_sequence_length, max_target_sequence_length, dtype=tf.float32, name='masks')\n",
    "\n",
    "    with tf.name_scope(\"optimization\"):\n",
    "        # Loss function\n",
    "        cost = tf.contrib.seq2seq.sequence_loss(\n",
    "            training_logits,\n",
    "            targets,\n",
    "            masks)\n",
    "\n",
    "        # Optimizer\n",
    "        optimizer = tf.train.AdamOptimizer(lr)\n",
    "\n",
    "        # Gradient Clipping\n",
    "        gradients = optimizer.compute_gradients(cost)\n",
    "        capped_gradients = [(tf.clip_by_value(grad, -1., 1.), var) for grad, var in gradients if grad is not None]\n",
    "        train_op = optimizer.apply_gradients(capped_gradients)\n"
   ]
  },
  {
   "cell_type": "markdown",
   "metadata": {},
   "source": [
    "Batch and pad the source and target sequences"
   ]
  },
  {
   "cell_type": "code",
   "execution_count": 49,
   "metadata": {
    "collapsed": true
   },
   "outputs": [],
   "source": [
    "\"\"\"\n",
    "DON'T MODIFY ANYTHING IN THIS CELL\n",
    "\"\"\"\n",
    "def pad_sentence_batch(sentence_batch, pad_int):\n",
    "    \"\"\"Pad sentences with <PAD> so that each sentence of a batch has the same length\"\"\"\n",
    "    max_sentence = max([len(sentence) for sentence in sentence_batch])\n",
    "    return [sentence + [pad_int] * (max_sentence - len(sentence)) for sentence in sentence_batch]\n",
    "\n",
    "\n",
    "def get_batches(sources, targets, batch_size, source_pad_int, target_pad_int):\n",
    "    \"\"\"Batch targets, sources, and the lengths of their sentences together\"\"\"\n",
    "    for batch_i in range(0, len(sources)//batch_size):\n",
    "        start_i = batch_i * batch_size\n",
    "\n",
    "        # Slice the right amount for the batch\n",
    "        sources_batch = sources[start_i:start_i + batch_size]\n",
    "        targets_batch = targets[start_i:start_i + batch_size]\n",
    "\n",
    "        # Pad\n",
    "        pad_sources_batch = np.array(pad_sentence_batch(sources_batch, source_pad_int))\n",
    "        pad_targets_batch = np.array(pad_sentence_batch(targets_batch, target_pad_int))\n",
    "\n",
    "        # Need the lengths for the _lengths parameters\n",
    "        pad_targets_lengths = []\n",
    "        for target in pad_targets_batch:\n",
    "            pad_targets_lengths.append(len(target))\n",
    "\n",
    "        pad_source_lengths = []\n",
    "        for source in pad_sources_batch:\n",
    "            pad_source_lengths.append(len(source))\n",
    "\n",
    "        yield pad_sources_batch, pad_targets_batch, pad_source_lengths, pad_targets_lengths\n"
   ]
  },
  {
   "cell_type": "markdown",
   "metadata": {},
   "source": [
    "### Train\n",
    "Train the neural network on the preprocessed data. If you have a hard time getting a good loss, check the forms to see if anyone is having the same problem."
   ]
  },
  {
   "cell_type": "code",
   "execution_count": 50,
   "metadata": {
    "scrolled": true
   },
   "outputs": [
    {
     "name": "stdout",
     "output_type": "stream",
     "text": [
      "Epoch   0 Batch   10/269 - Train Accuracy: 0.3332, Validation Accuracy: 0.3944, Loss: 3.0962\n",
      "Epoch   0 Batch   20/269 - Train Accuracy: 0.3907, Validation Accuracy: 0.4444, Loss: 2.6547\n",
      "Epoch   0 Batch   30/269 - Train Accuracy: 0.4454, Validation Accuracy: 0.4714, Loss: 2.3388\n",
      "Epoch   0 Batch   40/269 - Train Accuracy: 0.4502, Validation Accuracy: 0.4949, Loss: 2.2456\n",
      "Epoch   0 Batch   50/269 - Train Accuracy: 0.4656, Validation Accuracy: 0.5080, Loss: 2.0855\n",
      "Epoch   0 Batch   60/269 - Train Accuracy: 0.4739, Validation Accuracy: 0.4925, Loss: 1.7322\n",
      "Epoch   0 Batch   70/269 - Train Accuracy: 0.5032, Validation Accuracy: 0.5062, Loss: 1.7073\n",
      "Epoch   0 Batch   80/269 - Train Accuracy: 0.5149, Validation Accuracy: 0.5241, Loss: 1.6210\n",
      "Epoch   0 Batch   90/269 - Train Accuracy: 0.4897, Validation Accuracy: 0.5407, Loss: 1.6070\n",
      "Epoch   0 Batch  100/269 - Train Accuracy: 0.5390, Validation Accuracy: 0.5408, Loss: 1.3896\n",
      "Epoch   0 Batch  110/269 - Train Accuracy: 0.4952, Validation Accuracy: 0.5067, Loss: 1.4764\n",
      "Epoch   0 Batch  120/269 - Train Accuracy: 0.5293, Validation Accuracy: 0.5573, Loss: 1.3119\n",
      "Epoch   0 Batch  130/269 - Train Accuracy: 0.4978, Validation Accuracy: 0.5386, Loss: 1.2592\n",
      "Epoch   0 Batch  140/269 - Train Accuracy: 0.5704, Validation Accuracy: 0.5745, Loss: 1.1238\n",
      "Epoch   0 Batch  150/269 - Train Accuracy: 0.5314, Validation Accuracy: 0.5458, Loss: 1.0876\n",
      "Epoch   0 Batch  160/269 - Train Accuracy: 0.5366, Validation Accuracy: 0.5420, Loss: 1.0155\n",
      "Epoch   0 Batch  170/269 - Train Accuracy: 0.5770, Validation Accuracy: 0.5864, Loss: 0.9549\n",
      "Epoch   0 Batch  180/269 - Train Accuracy: 0.5729, Validation Accuracy: 0.5881, Loss: 0.8999\n",
      "Epoch   0 Batch  190/269 - Train Accuracy: 0.5751, Validation Accuracy: 0.5939, Loss: 0.8719\n",
      "Epoch   0 Batch  200/269 - Train Accuracy: 0.5640, Validation Accuracy: 0.5899, Loss: 0.9048\n",
      "Epoch   0 Batch  210/269 - Train Accuracy: 0.4550, Validation Accuracy: 0.4718, Loss: 1.1315\n",
      "Epoch   0 Batch  220/269 - Train Accuracy: 0.5381, Validation Accuracy: 0.5407, Loss: 0.8864\n",
      "Epoch   0 Batch  230/269 - Train Accuracy: 0.5634, Validation Accuracy: 0.5779, Loss: 0.8670\n",
      "Epoch   0 Batch  240/269 - Train Accuracy: 0.6101, Validation Accuracy: 0.5680, Loss: 0.7294\n",
      "Epoch   0 Batch  250/269 - Train Accuracy: 0.5707, Validation Accuracy: 0.5848, Loss: 0.7794\n",
      "Epoch   0 Batch  260/269 - Train Accuracy: 0.5736, Validation Accuracy: 0.5889, Loss: 0.7790\n",
      "Epoch   1 Batch   10/269 - Train Accuracy: 0.5964, Validation Accuracy: 0.6039, Loss: 0.7216\n",
      "Epoch   1 Batch   20/269 - Train Accuracy: 0.6005, Validation Accuracy: 0.6040, Loss: 0.7105\n",
      "Epoch   1 Batch   30/269 - Train Accuracy: 0.6068, Validation Accuracy: 0.6082, Loss: 0.6576\n",
      "Epoch   1 Batch   40/269 - Train Accuracy: 0.6078, Validation Accuracy: 0.6147, Loss: 0.6793\n",
      "Epoch   1 Batch   50/269 - Train Accuracy: 0.5892, Validation Accuracy: 0.6127, Loss: 0.6647\n",
      "Epoch   1 Batch   60/269 - Train Accuracy: 0.6309, Validation Accuracy: 0.6200, Loss: 0.5894\n",
      "Epoch   1 Batch   70/269 - Train Accuracy: 0.6483, Validation Accuracy: 0.6344, Loss: 0.5990\n",
      "Epoch   1 Batch   80/269 - Train Accuracy: 0.6478, Validation Accuracy: 0.6497, Loss: 0.5821\n",
      "Epoch   1 Batch   90/269 - Train Accuracy: 0.5975, Validation Accuracy: 0.6410, Loss: 0.5985\n",
      "Epoch   1 Batch  100/269 - Train Accuracy: 0.6642, Validation Accuracy: 0.6400, Loss: 0.5481\n",
      "Epoch   1 Batch  110/269 - Train Accuracy: 0.6404, Validation Accuracy: 0.6439, Loss: 0.5258\n",
      "Epoch   1 Batch  120/269 - Train Accuracy: 0.6539, Validation Accuracy: 0.6547, Loss: 0.5324\n",
      "Epoch   1 Batch  130/269 - Train Accuracy: 0.6340, Validation Accuracy: 0.6597, Loss: 0.5211\n",
      "Epoch   1 Batch  140/269 - Train Accuracy: 0.6553, Validation Accuracy: 0.6624, Loss: 0.5015\n",
      "Epoch   1 Batch  150/269 - Train Accuracy: 0.6760, Validation Accuracy: 0.6644, Loss: 0.4728\n",
      "Epoch   1 Batch  160/269 - Train Accuracy: 0.6730, Validation Accuracy: 0.6647, Loss: 0.4623\n",
      "Epoch   1 Batch  170/269 - Train Accuracy: 0.6726, Validation Accuracy: 0.6686, Loss: 0.4442\n",
      "Epoch   1 Batch  180/269 - Train Accuracy: 0.6949, Validation Accuracy: 0.6805, Loss: 0.4268\n",
      "Epoch   1 Batch  190/269 - Train Accuracy: 0.7145, Validation Accuracy: 0.6910, Loss: 0.3979\n",
      "Epoch   1 Batch  200/269 - Train Accuracy: 0.6876, Validation Accuracy: 0.6863, Loss: 0.4112\n",
      "Epoch   1 Batch  210/269 - Train Accuracy: 0.7185, Validation Accuracy: 0.6975, Loss: 0.3717\n",
      "Epoch   1 Batch  220/269 - Train Accuracy: 0.7501, Validation Accuracy: 0.7367, Loss: 0.3398\n",
      "Epoch   1 Batch  230/269 - Train Accuracy: 0.7619, Validation Accuracy: 0.7649, Loss: 0.3385\n",
      "Epoch   1 Batch  240/269 - Train Accuracy: 0.7896, Validation Accuracy: 0.7774, Loss: 0.2902\n",
      "Epoch   1 Batch  250/269 - Train Accuracy: 0.7827, Validation Accuracy: 0.7803, Loss: 0.3246\n",
      "Epoch   1 Batch  260/269 - Train Accuracy: 0.7888, Validation Accuracy: 0.8118, Loss: 0.3026\n",
      "Epoch   2 Batch   10/269 - Train Accuracy: 0.8367, Validation Accuracy: 0.8289, Loss: 0.2449\n",
      "Epoch   2 Batch   20/269 - Train Accuracy: 0.8249, Validation Accuracy: 0.8256, Loss: 0.2284\n",
      "Epoch   2 Batch   30/269 - Train Accuracy: 0.8364, Validation Accuracy: 0.8311, Loss: 0.2140\n",
      "Epoch   2 Batch   40/269 - Train Accuracy: 0.8492, Validation Accuracy: 0.8525, Loss: 0.2025\n",
      "Epoch   2 Batch   50/269 - Train Accuracy: 0.8664, Validation Accuracy: 0.8704, Loss: 0.1912\n",
      "Epoch   2 Batch   60/269 - Train Accuracy: 0.8801, Validation Accuracy: 0.8612, Loss: 0.1513\n",
      "Epoch   2 Batch   70/269 - Train Accuracy: 0.8930, Validation Accuracy: 0.8744, Loss: 0.1606\n",
      "Epoch   2 Batch   80/269 - Train Accuracy: 0.8736, Validation Accuracy: 0.8646, Loss: 0.1385\n",
      "Epoch   2 Batch   90/269 - Train Accuracy: 0.8875, Validation Accuracy: 0.8893, Loss: 0.1373\n",
      "Epoch   2 Batch  100/269 - Train Accuracy: 0.8984, Validation Accuracy: 0.9002, Loss: 0.1239\n",
      "Epoch   2 Batch  110/269 - Train Accuracy: 0.8916, Validation Accuracy: 0.8882, Loss: 0.1140\n",
      "Epoch   2 Batch  120/269 - Train Accuracy: 0.9053, Validation Accuracy: 0.8987, Loss: 0.1066\n",
      "Epoch   2 Batch  130/269 - Train Accuracy: 0.9035, Validation Accuracy: 0.9079, Loss: 0.1094\n",
      "Epoch   2 Batch  140/269 - Train Accuracy: 0.9035, Validation Accuracy: 0.9154, Loss: 0.1082\n",
      "Epoch   2 Batch  150/269 - Train Accuracy: 0.9117, Validation Accuracy: 0.9076, Loss: 0.0960\n",
      "Epoch   2 Batch  160/269 - Train Accuracy: 0.9146, Validation Accuracy: 0.9128, Loss: 0.0897\n",
      "Epoch   2 Batch  170/269 - Train Accuracy: 0.9149, Validation Accuracy: 0.9212, Loss: 0.0797\n",
      "Epoch   2 Batch  180/269 - Train Accuracy: 0.9238, Validation Accuracy: 0.9208, Loss: 0.0777\n",
      "Epoch   2 Batch  190/269 - Train Accuracy: 0.9247, Validation Accuracy: 0.9221, Loss: 0.0721\n",
      "Epoch   2 Batch  200/269 - Train Accuracy: 0.9228, Validation Accuracy: 0.9034, Loss: 0.0740\n",
      "Epoch   2 Batch  210/269 - Train Accuracy: 0.9288, Validation Accuracy: 0.9245, Loss: 0.0685\n",
      "Epoch   2 Batch  220/269 - Train Accuracy: 0.9219, Validation Accuracy: 0.9106, Loss: 0.0686\n",
      "Epoch   2 Batch  230/269 - Train Accuracy: 0.9271, Validation Accuracy: 0.9416, Loss: 0.0693\n",
      "Epoch   2 Batch  240/269 - Train Accuracy: 0.9344, Validation Accuracy: 0.9337, Loss: 0.0586\n",
      "Epoch   2 Batch  250/269 - Train Accuracy: 0.9340, Validation Accuracy: 0.9292, Loss: 0.0597\n",
      "Epoch   2 Batch  260/269 - Train Accuracy: 0.9308, Validation Accuracy: 0.9298, Loss: 0.0684\n",
      "Epoch   3 Batch   10/269 - Train Accuracy: 0.9364, Validation Accuracy: 0.9375, Loss: 0.0498\n",
      "Epoch   3 Batch   20/269 - Train Accuracy: 0.9402, Validation Accuracy: 0.9492, Loss: 0.0517\n",
      "Epoch   3 Batch   30/269 - Train Accuracy: 0.9431, Validation Accuracy: 0.9442, Loss: 0.0538\n",
      "Epoch   3 Batch   40/269 - Train Accuracy: 0.9326, Validation Accuracy: 0.9378, Loss: 0.0584\n",
      "Epoch   3 Batch   50/269 - Train Accuracy: 0.9340, Validation Accuracy: 0.9432, Loss: 0.0558\n",
      "Epoch   3 Batch   60/269 - Train Accuracy: 0.9480, Validation Accuracy: 0.9384, Loss: 0.0441\n",
      "Epoch   3 Batch   70/269 - Train Accuracy: 0.9457, Validation Accuracy: 0.9422, Loss: 0.0511\n",
      "Epoch   3 Batch   80/269 - Train Accuracy: 0.9367, Validation Accuracy: 0.9445, Loss: 0.0443\n",
      "Epoch   3 Batch   90/269 - Train Accuracy: 0.9532, Validation Accuracy: 0.9427, Loss: 0.0462\n",
      "Epoch   3 Batch  100/269 - Train Accuracy: 0.9488, Validation Accuracy: 0.9434, Loss: 0.0459\n",
      "Epoch   3 Batch  110/269 - Train Accuracy: 0.9271, Validation Accuracy: 0.9496, Loss: 0.0442\n"
     ]
    },
    {
     "name": "stdout",
     "output_type": "stream",
     "text": [
      "Epoch   3 Batch  120/269 - Train Accuracy: 0.9525, Validation Accuracy: 0.9463, Loss: 0.0397\n",
      "Epoch   3 Batch  130/269 - Train Accuracy: 0.9517, Validation Accuracy: 0.9451, Loss: 0.0452\n",
      "Epoch   3 Batch  140/269 - Train Accuracy: 0.9519, Validation Accuracy: 0.9555, Loss: 0.0446\n",
      "Epoch   3 Batch  150/269 - Train Accuracy: 0.9543, Validation Accuracy: 0.9400, Loss: 0.0422\n",
      "Epoch   3 Batch  160/269 - Train Accuracy: 0.9517, Validation Accuracy: 0.9569, Loss: 0.0389\n",
      "Epoch   3 Batch  170/269 - Train Accuracy: 0.9516, Validation Accuracy: 0.9466, Loss: 0.0354\n",
      "Epoch   3 Batch  180/269 - Train Accuracy: 0.9620, Validation Accuracy: 0.9532, Loss: 0.0352\n",
      "Epoch   3 Batch  190/269 - Train Accuracy: 0.9648, Validation Accuracy: 0.9529, Loss: 0.0369\n",
      "Epoch   3 Batch  200/269 - Train Accuracy: 0.9665, Validation Accuracy: 0.9424, Loss: 0.0323\n",
      "Epoch   3 Batch  210/269 - Train Accuracy: 0.9640, Validation Accuracy: 0.9522, Loss: 0.0328\n",
      "Epoch   3 Batch  220/269 - Train Accuracy: 0.9560, Validation Accuracy: 0.9535, Loss: 0.0329\n",
      "Epoch   3 Batch  230/269 - Train Accuracy: 0.9608, Validation Accuracy: 0.9626, Loss: 0.0332\n",
      "Epoch   3 Batch  240/269 - Train Accuracy: 0.9691, Validation Accuracy: 0.9615, Loss: 0.0304\n",
      "Epoch   3 Batch  250/269 - Train Accuracy: 0.9597, Validation Accuracy: 0.9542, Loss: 0.0321\n",
      "Epoch   3 Batch  260/269 - Train Accuracy: 0.9547, Validation Accuracy: 0.9541, Loss: 0.0398\n",
      "Epoch   4 Batch   10/269 - Train Accuracy: 0.9696, Validation Accuracy: 0.9640, Loss: 0.0251\n",
      "Epoch   4 Batch   20/269 - Train Accuracy: 0.9563, Validation Accuracy: 0.9608, Loss: 0.0308\n",
      "Epoch   4 Batch   30/269 - Train Accuracy: 0.9575, Validation Accuracy: 0.9504, Loss: 0.0333\n",
      "Epoch   4 Batch   40/269 - Train Accuracy: 0.9605, Validation Accuracy: 0.9601, Loss: 0.0352\n",
      "Epoch   4 Batch   50/269 - Train Accuracy: 0.9569, Validation Accuracy: 0.9545, Loss: 0.0349\n",
      "Epoch   4 Batch   60/269 - Train Accuracy: 0.9683, Validation Accuracy: 0.9571, Loss: 0.0285\n",
      "Epoch   4 Batch   70/269 - Train Accuracy: 0.9620, Validation Accuracy: 0.9554, Loss: 0.0311\n",
      "Epoch   4 Batch   80/269 - Train Accuracy: 0.9626, Validation Accuracy: 0.9546, Loss: 0.0253\n",
      "Epoch   4 Batch   90/269 - Train Accuracy: 0.9603, Validation Accuracy: 0.9551, Loss: 0.0259\n",
      "Epoch   4 Batch  100/269 - Train Accuracy: 0.9670, Validation Accuracy: 0.9523, Loss: 0.0293\n",
      "Epoch   4 Batch  110/269 - Train Accuracy: 0.9588, Validation Accuracy: 0.9619, Loss: 0.0254\n",
      "Epoch   4 Batch  120/269 - Train Accuracy: 0.9695, Validation Accuracy: 0.9583, Loss: 0.0239\n",
      "Epoch   4 Batch  130/269 - Train Accuracy: 0.9670, Validation Accuracy: 0.9490, Loss: 0.0286\n",
      "Epoch   4 Batch  140/269 - Train Accuracy: 0.9661, Validation Accuracy: 0.9593, Loss: 0.0269\n",
      "Epoch   4 Batch  150/269 - Train Accuracy: 0.9692, Validation Accuracy: 0.9670, Loss: 0.0267\n",
      "Epoch   4 Batch  160/269 - Train Accuracy: 0.9684, Validation Accuracy: 0.9628, Loss: 0.0240\n",
      "Epoch   4 Batch  170/269 - Train Accuracy: 0.9669, Validation Accuracy: 0.9657, Loss: 0.0229\n",
      "Epoch   4 Batch  180/269 - Train Accuracy: 0.9726, Validation Accuracy: 0.9680, Loss: 0.0232\n",
      "Epoch   4 Batch  190/269 - Train Accuracy: 0.9700, Validation Accuracy: 0.9694, Loss: 0.0253\n",
      "Epoch   4 Batch  200/269 - Train Accuracy: 0.9790, Validation Accuracy: 0.9599, Loss: 0.0199\n",
      "Epoch   4 Batch  210/269 - Train Accuracy: 0.9711, Validation Accuracy: 0.9632, Loss: 0.0214\n",
      "Epoch   4 Batch  220/269 - Train Accuracy: 0.9692, Validation Accuracy: 0.9702, Loss: 0.0246\n",
      "Epoch   4 Batch  230/269 - Train Accuracy: 0.9734, Validation Accuracy: 0.9660, Loss: 0.0228\n",
      "Epoch   4 Batch  240/269 - Train Accuracy: 0.9787, Validation Accuracy: 0.9662, Loss: 0.0221\n",
      "Epoch   4 Batch  250/269 - Train Accuracy: 0.9680, Validation Accuracy: 0.9683, Loss: 0.0204\n",
      "Epoch   4 Batch  260/269 - Train Accuracy: 0.9674, Validation Accuracy: 0.9691, Loss: 0.0254\n",
      "Epoch   5 Batch   10/269 - Train Accuracy: 0.9756, Validation Accuracy: 0.9605, Loss: 0.0176\n",
      "Epoch   5 Batch   20/269 - Train Accuracy: 0.9672, Validation Accuracy: 0.9664, Loss: 0.0227\n",
      "Epoch   5 Batch   30/269 - Train Accuracy: 0.9699, Validation Accuracy: 0.9626, Loss: 0.0229\n",
      "Epoch   5 Batch   40/269 - Train Accuracy: 0.9726, Validation Accuracy: 0.9672, Loss: 0.0247\n",
      "Epoch   5 Batch   50/269 - Train Accuracy: 0.9642, Validation Accuracy: 0.9593, Loss: 0.0266\n",
      "Epoch   5 Batch   60/269 - Train Accuracy: 0.9727, Validation Accuracy: 0.9687, Loss: 0.0214\n",
      "Epoch   5 Batch   70/269 - Train Accuracy: 0.9744, Validation Accuracy: 0.9641, Loss: 0.0223\n",
      "Epoch   5 Batch   80/269 - Train Accuracy: 0.9763, Validation Accuracy: 0.9659, Loss: 0.0195\n",
      "Epoch   5 Batch   90/269 - Train Accuracy: 0.9694, Validation Accuracy: 0.9682, Loss: 0.0183\n",
      "Epoch   5 Batch  100/269 - Train Accuracy: 0.9699, Validation Accuracy: 0.9691, Loss: 0.0217\n",
      "Epoch   5 Batch  110/269 - Train Accuracy: 0.9794, Validation Accuracy: 0.9681, Loss: 0.0186\n",
      "Epoch   5 Batch  120/269 - Train Accuracy: 0.9764, Validation Accuracy: 0.9700, Loss: 0.0181\n",
      "Epoch   5 Batch  130/269 - Train Accuracy: 0.9737, Validation Accuracy: 0.9578, Loss: 0.0209\n",
      "Epoch   5 Batch  140/269 - Train Accuracy: 0.9734, Validation Accuracy: 0.9696, Loss: 0.0205\n",
      "Epoch   5 Batch  150/269 - Train Accuracy: 0.9776, Validation Accuracy: 0.9727, Loss: 0.0195\n",
      "Epoch   5 Batch  160/269 - Train Accuracy: 0.9792, Validation Accuracy: 0.9569, Loss: 0.0177\n",
      "Epoch   5 Batch  170/269 - Train Accuracy: 0.9718, Validation Accuracy: 0.9680, Loss: 0.0177\n",
      "Epoch   5 Batch  180/269 - Train Accuracy: 0.9838, Validation Accuracy: 0.9684, Loss: 0.0168\n",
      "Epoch   5 Batch  190/269 - Train Accuracy: 0.9767, Validation Accuracy: 0.9712, Loss: 0.0191\n",
      "Epoch   5 Batch  200/269 - Train Accuracy: 0.9897, Validation Accuracy: 0.9745, Loss: 0.0143\n",
      "Epoch   5 Batch  210/269 - Train Accuracy: 0.9798, Validation Accuracy: 0.9723, Loss: 0.0162\n",
      "Epoch   5 Batch  220/269 - Train Accuracy: 0.9732, Validation Accuracy: 0.9687, Loss: 0.0169\n",
      "Epoch   5 Batch  230/269 - Train Accuracy: 0.9772, Validation Accuracy: 0.9739, Loss: 0.0170\n",
      "Epoch   5 Batch  240/269 - Train Accuracy: 0.9792, Validation Accuracy: 0.9578, Loss: 0.0161\n",
      "Epoch   5 Batch  250/269 - Train Accuracy: 0.9788, Validation Accuracy: 0.9667, Loss: 0.0152\n",
      "Epoch   5 Batch  260/269 - Train Accuracy: 0.9837, Validation Accuracy: 0.9688, Loss: 0.0201\n",
      "Epoch   6 Batch   10/269 - Train Accuracy: 0.9865, Validation Accuracy: 0.9676, Loss: 0.0128\n",
      "Epoch   6 Batch   20/269 - Train Accuracy: 0.9771, Validation Accuracy: 0.9750, Loss: 0.0173\n",
      "Epoch   6 Batch   30/269 - Train Accuracy: 0.9754, Validation Accuracy: 0.9568, Loss: 0.0179\n",
      "Epoch   6 Batch   40/269 - Train Accuracy: 0.9752, Validation Accuracy: 0.9750, Loss: 0.0185\n",
      "Epoch   6 Batch   50/269 - Train Accuracy: 0.9689, Validation Accuracy: 0.9589, Loss: 0.0214\n",
      "Epoch   6 Batch   60/269 - Train Accuracy: 0.9788, Validation Accuracy: 0.9644, Loss: 0.0161\n",
      "Epoch   6 Batch   70/269 - Train Accuracy: 0.9853, Validation Accuracy: 0.9625, Loss: 0.0151\n",
      "Epoch   6 Batch   80/269 - Train Accuracy: 0.9769, Validation Accuracy: 0.9687, Loss: 0.0137\n",
      "Epoch   6 Batch   90/269 - Train Accuracy: 0.9780, Validation Accuracy: 0.9701, Loss: 0.0140\n",
      "Epoch   6 Batch  100/269 - Train Accuracy: 0.9771, Validation Accuracy: 0.9747, Loss: 0.0154\n",
      "Epoch   6 Batch  110/269 - Train Accuracy: 0.9861, Validation Accuracy: 0.9642, Loss: 0.0131\n",
      "Epoch   6 Batch  120/269 - Train Accuracy: 0.9826, Validation Accuracy: 0.9720, Loss: 0.0141\n",
      "Epoch   6 Batch  130/269 - Train Accuracy: 0.9825, Validation Accuracy: 0.9595, Loss: 0.0161\n",
      "Epoch   6 Batch  140/269 - Train Accuracy: 0.9748, Validation Accuracy: 0.9711, Loss: 0.0157\n",
      "Epoch   6 Batch  150/269 - Train Accuracy: 0.9769, Validation Accuracy: 0.9607, Loss: 0.0155\n",
      "Epoch   6 Batch  160/269 - Train Accuracy: 0.9820, Validation Accuracy: 0.9666, Loss: 0.0138\n",
      "Epoch   6 Batch  170/269 - Train Accuracy: 0.9795, Validation Accuracy: 0.9676, Loss: 0.0172\n",
      "Epoch   6 Batch  180/269 - Train Accuracy: 0.9925, Validation Accuracy: 0.9678, Loss: 0.0130\n",
      "Epoch   6 Batch  190/269 - Train Accuracy: 0.9838, Validation Accuracy: 0.9706, Loss: 0.0166\n",
      "Epoch   6 Batch  200/269 - Train Accuracy: 0.9901, Validation Accuracy: 0.9716, Loss: 0.0120\n",
      "Epoch   6 Batch  210/269 - Train Accuracy: 0.9774, Validation Accuracy: 0.9711, Loss: 0.0123\n",
      "Epoch   6 Batch  220/269 - Train Accuracy: 0.9803, Validation Accuracy: 0.9733, Loss: 0.0138\n"
     ]
    },
    {
     "name": "stdout",
     "output_type": "stream",
     "text": [
      "Epoch   6 Batch  230/269 - Train Accuracy: 0.9827, Validation Accuracy: 0.9732, Loss: 0.0131\n",
      "Epoch   6 Batch  240/269 - Train Accuracy: 0.9866, Validation Accuracy: 0.9678, Loss: 0.0121\n",
      "Epoch   6 Batch  250/269 - Train Accuracy: 0.9836, Validation Accuracy: 0.9695, Loss: 0.0126\n",
      "Epoch   6 Batch  260/269 - Train Accuracy: 0.9820, Validation Accuracy: 0.9735, Loss: 0.0160\n",
      "Epoch   7 Batch   10/269 - Train Accuracy: 0.9828, Validation Accuracy: 0.9741, Loss: 0.0103\n",
      "Epoch   7 Batch   20/269 - Train Accuracy: 0.9825, Validation Accuracy: 0.9750, Loss: 0.0139\n",
      "Epoch   7 Batch   30/269 - Train Accuracy: 0.9801, Validation Accuracy: 0.9689, Loss: 0.0172\n",
      "Epoch   7 Batch   40/269 - Train Accuracy: 0.9830, Validation Accuracy: 0.9570, Loss: 0.0165\n",
      "Epoch   7 Batch   50/269 - Train Accuracy: 0.9749, Validation Accuracy: 0.9715, Loss: 0.0173\n",
      "Epoch   7 Batch   60/269 - Train Accuracy: 0.9804, Validation Accuracy: 0.9711, Loss: 0.0132\n",
      "Epoch   7 Batch   70/269 - Train Accuracy: 0.9865, Validation Accuracy: 0.9675, Loss: 0.0117\n",
      "Epoch   7 Batch   80/269 - Train Accuracy: 0.9881, Validation Accuracy: 0.9730, Loss: 0.0105\n",
      "Epoch   7 Batch   90/269 - Train Accuracy: 0.9859, Validation Accuracy: 0.9729, Loss: 0.0112\n",
      "Epoch   7 Batch  100/269 - Train Accuracy: 0.9805, Validation Accuracy: 0.9734, Loss: 0.0114\n",
      "Epoch   7 Batch  110/269 - Train Accuracy: 0.9860, Validation Accuracy: 0.9617, Loss: 0.0107\n",
      "Epoch   7 Batch  120/269 - Train Accuracy: 0.9828, Validation Accuracy: 0.9696, Loss: 0.0133\n",
      "Epoch   7 Batch  130/269 - Train Accuracy: 0.9889, Validation Accuracy: 0.9781, Loss: 0.0143\n",
      "Epoch   7 Batch  140/269 - Train Accuracy: 0.9871, Validation Accuracy: 0.9715, Loss: 0.0124\n",
      "Epoch   7 Batch  150/269 - Train Accuracy: 0.9925, Validation Accuracy: 0.9718, Loss: 0.0133\n",
      "Epoch   7 Batch  160/269 - Train Accuracy: 0.9804, Validation Accuracy: 0.9679, Loss: 0.0117\n",
      "Epoch   7 Batch  170/269 - Train Accuracy: 0.9790, Validation Accuracy: 0.9679, Loss: 0.0124\n",
      "Epoch   7 Batch  180/269 - Train Accuracy: 0.9894, Validation Accuracy: 0.9670, Loss: 0.0110\n",
      "Epoch   7 Batch  190/269 - Train Accuracy: 0.9858, Validation Accuracy: 0.9751, Loss: 0.0130\n",
      "Epoch   7 Batch  200/269 - Train Accuracy: 0.9923, Validation Accuracy: 0.9729, Loss: 0.0092\n",
      "Epoch   7 Batch  210/269 - Train Accuracy: 0.9887, Validation Accuracy: 0.9736, Loss: 0.0100\n",
      "Epoch   7 Batch  220/269 - Train Accuracy: 0.9821, Validation Accuracy: 0.9678, Loss: 0.0119\n",
      "Epoch   7 Batch  230/269 - Train Accuracy: 0.9823, Validation Accuracy: 0.9796, Loss: 0.0111\n",
      "Epoch   7 Batch  240/269 - Train Accuracy: 0.9843, Validation Accuracy: 0.9628, Loss: 0.0113\n",
      "Epoch   7 Batch  250/269 - Train Accuracy: 0.9827, Validation Accuracy: 0.9673, Loss: 0.0121\n",
      "Epoch   7 Batch  260/269 - Train Accuracy: 0.9868, Validation Accuracy: 0.9783, Loss: 0.0118\n",
      "Epoch   8 Batch   10/269 - Train Accuracy: 0.9875, Validation Accuracy: 0.9721, Loss: 0.0089\n",
      "Epoch   8 Batch   20/269 - Train Accuracy: 0.9859, Validation Accuracy: 0.9714, Loss: 0.0125\n",
      "Epoch   8 Batch   30/269 - Train Accuracy: 0.9733, Validation Accuracy: 0.9739, Loss: 0.0153\n",
      "Epoch   8 Batch   40/269 - Train Accuracy: 0.9792, Validation Accuracy: 0.9646, Loss: 0.0164\n",
      "Epoch   8 Batch   50/269 - Train Accuracy: 0.9849, Validation Accuracy: 0.9695, Loss: 0.0173\n",
      "Epoch   8 Batch   60/269 - Train Accuracy: 0.9846, Validation Accuracy: 0.9753, Loss: 0.0126\n",
      "Epoch   8 Batch   70/269 - Train Accuracy: 0.9874, Validation Accuracy: 0.9755, Loss: 0.0115\n",
      "Epoch   8 Batch   80/269 - Train Accuracy: 0.9887, Validation Accuracy: 0.9725, Loss: 0.0107\n",
      "Epoch   8 Batch   90/269 - Train Accuracy: 0.9863, Validation Accuracy: 0.9701, Loss: 0.0098\n",
      "Epoch   8 Batch  100/269 - Train Accuracy: 0.9862, Validation Accuracy: 0.9735, Loss: 0.0098\n",
      "Epoch   8 Batch  110/269 - Train Accuracy: 0.9853, Validation Accuracy: 0.9664, Loss: 0.0093\n",
      "Epoch   8 Batch  120/269 - Train Accuracy: 0.9876, Validation Accuracy: 0.9743, Loss: 0.0110\n",
      "Epoch   8 Batch  130/269 - Train Accuracy: 0.9909, Validation Accuracy: 0.9760, Loss: 0.0122\n",
      "Epoch   8 Batch  140/269 - Train Accuracy: 0.9844, Validation Accuracy: 0.9680, Loss: 0.0106\n",
      "Epoch   8 Batch  150/269 - Train Accuracy: 0.9872, Validation Accuracy: 0.9726, Loss: 0.0112\n",
      "Epoch   8 Batch  160/269 - Train Accuracy: 0.9867, Validation Accuracy: 0.9757, Loss: 0.0100\n",
      "Epoch   8 Batch  170/269 - Train Accuracy: 0.9854, Validation Accuracy: 0.9735, Loss: 0.0097\n",
      "Epoch   8 Batch  180/269 - Train Accuracy: 0.9868, Validation Accuracy: 0.9732, Loss: 0.0097\n",
      "Epoch   8 Batch  190/269 - Train Accuracy: 0.9869, Validation Accuracy: 0.9716, Loss: 0.0103\n",
      "Epoch   8 Batch  200/269 - Train Accuracy: 0.9971, Validation Accuracy: 0.9754, Loss: 0.0079\n",
      "Epoch   8 Batch  210/269 - Train Accuracy: 0.9898, Validation Accuracy: 0.9743, Loss: 0.0095\n",
      "Epoch   8 Batch  220/269 - Train Accuracy: 0.9851, Validation Accuracy: 0.9665, Loss: 0.0107\n",
      "Epoch   8 Batch  230/269 - Train Accuracy: 0.9854, Validation Accuracy: 0.9775, Loss: 0.0091\n",
      "Epoch   8 Batch  240/269 - Train Accuracy: 0.9902, Validation Accuracy: 0.9770, Loss: 0.0101\n",
      "Epoch   8 Batch  250/269 - Train Accuracy: 0.9918, Validation Accuracy: 0.9733, Loss: 0.0088\n",
      "Epoch   8 Batch  260/269 - Train Accuracy: 0.9868, Validation Accuracy: 0.9765, Loss: 0.0097\n",
      "Epoch   9 Batch   10/269 - Train Accuracy: 0.9904, Validation Accuracy: 0.9730, Loss: 0.0066\n",
      "Epoch   9 Batch   20/269 - Train Accuracy: 0.9868, Validation Accuracy: 0.9751, Loss: 0.0087\n",
      "Epoch   9 Batch   30/269 - Train Accuracy: 0.9860, Validation Accuracy: 0.9751, Loss: 0.0104\n",
      "Epoch   9 Batch   40/269 - Train Accuracy: 0.9890, Validation Accuracy: 0.9713, Loss: 0.0104\n",
      "Epoch   9 Batch   50/269 - Train Accuracy: 0.9872, Validation Accuracy: 0.9805, Loss: 0.0117\n",
      "Epoch   9 Batch   60/269 - Train Accuracy: 0.9901, Validation Accuracy: 0.9742, Loss: 0.0096\n",
      "Epoch   9 Batch   70/269 - Train Accuracy: 0.9918, Validation Accuracy: 0.9789, Loss: 0.0081\n",
      "Epoch   9 Batch   80/269 - Train Accuracy: 0.9902, Validation Accuracy: 0.9763, Loss: 0.0087\n",
      "Epoch   9 Batch   90/269 - Train Accuracy: 0.9924, Validation Accuracy: 0.9730, Loss: 0.0077\n",
      "Epoch   9 Batch  100/269 - Train Accuracy: 0.9918, Validation Accuracy: 0.9799, Loss: 0.0078\n",
      "Epoch   9 Batch  110/269 - Train Accuracy: 0.9874, Validation Accuracy: 0.9725, Loss: 0.0072\n",
      "Epoch   9 Batch  120/269 - Train Accuracy: 0.9909, Validation Accuracy: 0.9677, Loss: 0.0094\n",
      "Epoch   9 Batch  130/269 - Train Accuracy: 0.9934, Validation Accuracy: 0.9760, Loss: 0.0096\n",
      "Epoch   9 Batch  140/269 - Train Accuracy: 0.9893, Validation Accuracy: 0.9698, Loss: 0.0088\n",
      "Epoch   9 Batch  150/269 - Train Accuracy: 0.9918, Validation Accuracy: 0.9728, Loss: 0.0102\n",
      "Epoch   9 Batch  160/269 - Train Accuracy: 0.9900, Validation Accuracy: 0.9706, Loss: 0.0086\n",
      "Epoch   9 Batch  170/269 - Train Accuracy: 0.9907, Validation Accuracy: 0.9742, Loss: 0.0078\n",
      "Epoch   9 Batch  180/269 - Train Accuracy: 0.9903, Validation Accuracy: 0.9801, Loss: 0.0080\n",
      "Epoch   9 Batch  190/269 - Train Accuracy: 0.9878, Validation Accuracy: 0.9709, Loss: 0.0084\n",
      "Epoch   9 Batch  200/269 - Train Accuracy: 0.9948, Validation Accuracy: 0.9703, Loss: 0.0059\n",
      "Epoch   9 Batch  210/269 - Train Accuracy: 0.9916, Validation Accuracy: 0.9680, Loss: 0.0067\n",
      "Epoch   9 Batch  220/269 - Train Accuracy: 0.9903, Validation Accuracy: 0.9671, Loss: 0.0079\n",
      "Epoch   9 Batch  230/269 - Train Accuracy: 0.9890, Validation Accuracy: 0.9775, Loss: 0.0079\n",
      "Epoch   9 Batch  240/269 - Train Accuracy: 0.9909, Validation Accuracy: 0.9769, Loss: 0.0083\n",
      "Epoch   9 Batch  250/269 - Train Accuracy: 0.3294, Validation Accuracy: 0.3640, Loss: 3.8817\n",
      "Epoch   9 Batch  260/269 - Train Accuracy: 0.5848, Validation Accuracy: 0.6160, Loss: 0.8132\n",
      "Model Trained and Saved\n"
     ]
    }
   ],
   "source": [
    "\"\"\"\n",
    "DON'T MODIFY ANYTHING IN THIS CELL\n",
    "\"\"\"\n",
    "def get_accuracy(target, logits):\n",
    "    \"\"\"\n",
    "    Calculate accuracy\n",
    "    \"\"\"\n",
    "    max_seq = max(target.shape[1], logits.shape[1])\n",
    "    if max_seq - target.shape[1]:\n",
    "        target = np.pad(\n",
    "            target,\n",
    "            [(0,0),(0,max_seq - target.shape[1])],\n",
    "            'constant')\n",
    "    if max_seq - logits.shape[1]:\n",
    "        logits = np.pad(\n",
    "            logits,\n",
    "            [(0,0),(0,max_seq - logits.shape[1])],\n",
    "            'constant')\n",
    "\n",
    "    return np.mean(np.equal(target, logits))\n",
    "\n",
    "# Split data to training and validation sets\n",
    "train_source = source_int_text[batch_size:]\n",
    "train_target = target_int_text[batch_size:]\n",
    "valid_source = source_int_text[:batch_size]\n",
    "valid_target = target_int_text[:batch_size]\n",
    "(valid_sources_batch, valid_targets_batch, valid_sources_lengths, valid_targets_lengths ) = next(get_batches(valid_source,\n",
    "                                                                                                             valid_target,\n",
    "                                                                                                             batch_size,\n",
    "                                                                                                             source_vocab_to_int['<PAD>'],\n",
    "                                                                                                             target_vocab_to_int['<PAD>']))                                                                                                  \n",
    "with tf.Session(graph=train_graph) as sess:\n",
    "    sess.run(tf.global_variables_initializer())\n",
    "\n",
    "    for epoch_i in range(epochs):\n",
    "        for batch_i, (source_batch, target_batch, sources_lengths, targets_lengths) in enumerate(\n",
    "                get_batches(train_source, train_target, batch_size,\n",
    "                            source_vocab_to_int['<PAD>'],\n",
    "                            target_vocab_to_int['<PAD>'])):\n",
    "\n",
    "            _, loss = sess.run(\n",
    "                [train_op, cost],\n",
    "                {input_data: source_batch,\n",
    "                 targets: target_batch,\n",
    "                 lr: learning_rate,\n",
    "                 target_sequence_length: targets_lengths,\n",
    "                 source_sequence_length: sources_lengths,\n",
    "                 keep_prob: keep_probability})\n",
    "\n",
    "\n",
    "            if batch_i % display_step == 0 and batch_i > 0:\n",
    "\n",
    "\n",
    "                batch_train_logits = sess.run(\n",
    "                    inference_logits,\n",
    "                    {input_data: source_batch,\n",
    "                     source_sequence_length: sources_lengths,\n",
    "                     target_sequence_length: targets_lengths,\n",
    "                     keep_prob: 1.0})\n",
    "\n",
    "\n",
    "                batch_valid_logits = sess.run(\n",
    "                    inference_logits,\n",
    "                    {input_data: valid_sources_batch,\n",
    "                     source_sequence_length: valid_sources_lengths,\n",
    "                     target_sequence_length: valid_targets_lengths,\n",
    "                     keep_prob: 1.0})\n",
    "\n",
    "                train_acc = get_accuracy(target_batch, batch_train_logits)\n",
    "\n",
    "                valid_acc = get_accuracy(valid_targets_batch, batch_valid_logits)\n",
    "\n",
    "                print('Epoch {:>3} Batch {:>4}/{} - Train Accuracy: {:>6.4f}, Validation Accuracy: {:>6.4f}, Loss: {:>6.4f}'\n",
    "                      .format(epoch_i, batch_i, len(source_int_text) // batch_size, train_acc, valid_acc, loss))\n",
    "\n",
    "    # Save Model\n",
    "    saver = tf.train.Saver()\n",
    "    saver.save(sess, save_path)\n",
    "    print('Model Trained and Saved')"
   ]
  },
  {
   "cell_type": "markdown",
   "metadata": {},
   "source": [
    "### Save Parameters\n",
    "Save the `batch_size` and `save_path` parameters for inference."
   ]
  },
  {
   "cell_type": "code",
   "execution_count": 51,
   "metadata": {
    "collapsed": true
   },
   "outputs": [],
   "source": [
    "\"\"\"\n",
    "DON'T MODIFY ANYTHING IN THIS CELL\n",
    "\"\"\"\n",
    "# Save parameters for checkpoint\n",
    "helper.save_params(save_path)"
   ]
  },
  {
   "cell_type": "markdown",
   "metadata": {},
   "source": [
    "# Checkpoint"
   ]
  },
  {
   "cell_type": "code",
   "execution_count": 52,
   "metadata": {
    "collapsed": true
   },
   "outputs": [],
   "source": [
    "\"\"\"\n",
    "DON'T MODIFY ANYTHING IN THIS CELL\n",
    "\"\"\"\n",
    "import tensorflow as tf\n",
    "import numpy as np\n",
    "import helper\n",
    "import problem_unittests as tests\n",
    "\n",
    "_, (source_vocab_to_int, target_vocab_to_int), (source_int_to_vocab, target_int_to_vocab) = helper.load_preprocess()\n",
    "load_path = helper.load_params()"
   ]
  },
  {
   "cell_type": "markdown",
   "metadata": {},
   "source": [
    "## Sentence to Sequence\n",
    "To feed a sentence into the model for translation, you first need to preprocess it.  Implement the function `sentence_to_seq()` to preprocess new sentences.\n",
    "\n",
    "- Convert the sentence to lowercase\n",
    "- Convert words into ids using `vocab_to_int`\n",
    " - Convert words not in the vocabulary, to the `<UNK>` word id."
   ]
  },
  {
   "cell_type": "code",
   "execution_count": 53,
   "metadata": {},
   "outputs": [
    {
     "name": "stdout",
     "output_type": "stream",
     "text": [
      "Tests Passed\n"
     ]
    }
   ],
   "source": [
    "def sentence_to_seq(sentence, vocab_to_int):\n",
    "    \"\"\"\n",
    "    Convert a sentence to a sequence of ids\n",
    "    :param sentence: String\n",
    "    :param vocab_to_int: Dictionary to go from the words to an id\n",
    "    :return: List of word ids\n",
    "    \"\"\"\n",
    "    # TODO: Implement Function\n",
    "    s = sentence.lower()\n",
    "    default = vocab_to_int[\"<UNK>\"]\n",
    "    word_ids = [vocab_to_int.get(word, default) for word in s.split()]\n",
    "    return word_ids\n",
    "\n",
    "\"\"\"\n",
    "DON'T MODIFY ANYTHING IN THIS CELL THAT IS BELOW THIS LINE\n",
    "\"\"\"\n",
    "tests.test_sentence_to_seq(sentence_to_seq)"
   ]
  },
  {
   "cell_type": "markdown",
   "metadata": {},
   "source": [
    "## Translate\n",
    "This will translate `translate_sentence` from English to French."
   ]
  },
  {
   "cell_type": "code",
   "execution_count": 56,
   "metadata": {},
   "outputs": [
    {
     "name": "stdout",
     "output_type": "stream",
     "text": [
      "INFO:tensorflow:Restoring parameters from checkpoints/dev\n",
      "Input\n",
      "  Word Ids:      [34, 215, 171, 198, 2, 115, 2, 84]\n",
      "  English Words: ['he', 'saw', 'a', 'cat', '<UNK>', 'the', '<UNK>', '.']\n",
      "\n",
      "Prediction\n",
      "  Word Ids:      [183, 213, 60, 320, 273, 49, 38, 72, 160, 60, 72, 277, 308, 1]\n",
      "  French Words: mon fruit est moins aimé , mais le favori est le pamplemousse . <EOS>\n"
     ]
    }
   ],
   "source": [
    "translate_sentence = 'he saw a cat on the road .'\n",
    "\n",
    "\n",
    "\"\"\"\n",
    "DON'T MODIFY ANYTHING IN THIS CELL\n",
    "\"\"\"\n",
    "translate_sentence = sentence_to_seq(translate_sentence, source_vocab_to_int)\n",
    "\n",
    "loaded_graph = tf.Graph()\n",
    "with tf.Session(graph=loaded_graph) as sess:\n",
    "    # Load saved model\n",
    "    loader = tf.train.import_meta_graph(load_path + '.meta')\n",
    "    loader.restore(sess, load_path)\n",
    "\n",
    "    input_data = loaded_graph.get_tensor_by_name('input:0')\n",
    "    logits = loaded_graph.get_tensor_by_name('predictions:0')\n",
    "    target_sequence_length = loaded_graph.get_tensor_by_name('target_sequence_length:0')\n",
    "    source_sequence_length = loaded_graph.get_tensor_by_name('source_sequence_length:0')\n",
    "    keep_prob = loaded_graph.get_tensor_by_name('keep_prob:0')\n",
    "\n",
    "    translate_logits = sess.run(logits, {input_data: [translate_sentence]*batch_size,\n",
    "                                         target_sequence_length: [len(translate_sentence)*2]*batch_size,\n",
    "                                         source_sequence_length: [len(translate_sentence)]*batch_size,\n",
    "                                         keep_prob: 1.0})[0]\n",
    "\n",
    "print('Input')\n",
    "print('  Word Ids:      {}'.format([i for i in translate_sentence]))\n",
    "print('  English Words: {}'.format([source_int_to_vocab[i] for i in translate_sentence]))\n",
    "\n",
    "print('\\nPrediction')\n",
    "print('  Word Ids:      {}'.format([i for i in translate_logits]))\n",
    "print('  French Words: {}'.format(\" \".join([target_int_to_vocab[i] for i in translate_logits])))\n"
   ]
  },
  {
   "cell_type": "markdown",
   "metadata": {},
   "source": [
    "## Imperfect Translation\n",
    "You might notice that some sentences translate better than others.  Since the dataset you're using only has a vocabulary of 227 English words of the thousands that you use, you're only going to see good results using these words.  For this project, you don't need a perfect translation. However, if you want to create a better translation model, you'll need better data.\n",
    "\n",
    "You can train on the [WMT10 French-English corpus](http://www.statmt.org/wmt10/training-giga-fren.tar).  This dataset has more vocabulary and richer in topics discussed.  However, this will take you days to train, so make sure you've a GPU and the neural network is performing well on dataset we provided.  Just make sure you play with the WMT10 corpus after you've submitted this project.\n",
    "## Submitting This Project\n",
    "When submitting this project, make sure to run all the cells before saving the notebook. Save the notebook file as \"dlnd_language_translation.ipynb\" and save it as a HTML file under \"File\" -> \"Download as\". Include the \"helper.py\" and \"problem_unittests.py\" files in your submission."
   ]
  },
  {
   "cell_type": "code",
   "execution_count": null,
   "metadata": {
    "collapsed": true
   },
   "outputs": [],
   "source": []
  }
 ],
 "metadata": {
  "anaconda-cloud": {},
  "kernelspec": {
   "display_name": "Python 3",
   "language": "python",
   "name": "python3"
  },
  "language_info": {
   "codemirror_mode": {
    "name": "ipython",
    "version": 3
   },
   "file_extension": ".py",
   "mimetype": "text/x-python",
   "name": "python",
   "nbconvert_exporter": "python",
   "pygments_lexer": "ipython3",
   "version": "3.5.3"
  }
 },
 "nbformat": 4,
 "nbformat_minor": 1
}
